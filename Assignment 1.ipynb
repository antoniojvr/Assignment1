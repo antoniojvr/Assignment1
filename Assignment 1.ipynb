{
 "cells": [
  {
   "cell_type": "markdown",
   "metadata": {},
   "source": [
    "# Problem #1"
   ]
  },
  {
   "cell_type": "code",
   "execution_count": 2,
   "metadata": {
    "collapsed": false
   },
   "outputs": [
    {
     "name": "stdout",
     "output_type": "stream",
     "text": [
      "What is your name? Bill\n",
      "Hello, Bill, nice to meet you!\n"
     ]
    }
   ],
   "source": [
    "def example():\n",
    "    fname = input(\"What is your name? \")\n",
    "    \n",
    "    #input(\"What is your quest? \")\n",
    "    #input(\"What is the air-speed velocity of an unladen swallow?\")\n",
    "    \n",
    "    print_fname = \"Hello, {}, nice to meet you!\".format(fname)\n",
    "    print(print_fname)\n",
    "    \n",
    "example()"
   ]
  },
  {
   "cell_type": "markdown",
   "metadata": {},
   "source": [
    "# Problem #2"
   ]
  },
  {
   "cell_type": "code",
   "execution_count": 6,
   "metadata": {
    "collapsed": false
   },
   "outputs": [
    {
     "name": "stdout",
     "output_type": "stream",
     "text": [
      "What is the input string? s\n",
      "s has 1 characters.\n"
     ]
    }
   ],
   "source": [
    "def example():\n",
    "    instring = input(\"What is the input string? \")\n",
    "    print(\"{} has {} characters.\".format(instring, len(instring)))\n",
    "    \n",
    "example()"
   ]
  },
  {
   "cell_type": "markdown",
   "metadata": {},
   "source": [
    "# Problem #3"
   ]
  },
  {
   "cell_type": "code",
   "execution_count": 7,
   "metadata": {
    "collapsed": false
   },
   "outputs": [
    {
     "name": "stdout",
     "output_type": "stream",
     "text": [
      "Enter a noun: dog\n",
      "Enter a verb: walk\n",
      "Enter an adjective: blue\n",
      "Enter an adverb: quickly\n",
      "Do you walk your blue dog quickly? That's hilarious!\n"
     ]
    }
   ],
   "source": [
    "def example():\n",
    "    in_noun = input(\"Enter a noun: \")\n",
    "    in_verb = input(\"Enter a verb: \")\n",
    "    in_adj = input(\"Enter an adjective: \")\n",
    "    in_advb = input(\"Enter an adverb: \")\n",
    "    \n",
    "    print(\"Do you {} your {} {} {}? That's hilarious!\".format(in_verb, in_adj, in_noun, in_advb))\n",
    "    \n",
    "example()"
   ]
  },
  {
   "cell_type": "markdown",
   "metadata": {},
   "source": [
    "# Problem #4"
   ]
  },
  {
   "cell_type": "code",
   "execution_count": 19,
   "metadata": {
    "collapsed": false
   },
   "outputs": [
    {
     "name": "stdout",
     "output_type": "stream",
     "text": [
      "What is the first number? 20\n",
      "What is the second number? 0\n",
      "20 + 0 = 20\n",
      "20 - 0 = 20\n",
      "20 * 0 = 0\n",
      "20 / 0 = undefined\n"
     ]
    }
   ],
   "source": [
    "def example():\n",
    "    num0 = int(input(\"What is the first number? \"))\n",
    "    num1 = int(input(\"What is the second number? \"))\n",
    "    \n",
    "    numSum = num0 + num1\n",
    "    numDiff = num0 - num1\n",
    "    numProd = num0 * num1\n",
    "    \n",
    "    if num1 == 0:\n",
    "        numQuot = \"undefined\"\n",
    "    else:\n",
    "        numQuot = num0 / num1\n",
    "        \n",
    "    print(\"{firstnum} + {secondnum} = {}\\n{firstnum} - {secondnum} = {}\\n{firstnum} * {secondnum} = {}\\n{firstnum} / {secondnum} = {}\".format(numSum, numDiff, numProd, numQuot, firstnum = num0, secondnum = num1))\n",
    "    \n",
    "example()\n",
    "    "
   ]
  },
  {
   "cell_type": "markdown",
   "metadata": {},
   "source": [
    "# Problem #5"
   ]
  },
  {
   "cell_type": "code",
   "execution_count": 29,
   "metadata": {
    "collapsed": false
   },
   "outputs": [
    {
     "name": "stdout",
     "output_type": "stream",
     "text": [
      "What is your current age? 25\n",
      "At what age would you like to retire? 65\n",
      "You have 40 years left until you can retire.\n",
      "It's 2017, so you can retire in 2057.\n"
     ]
    }
   ],
   "source": [
    "def example():\n",
    "    from datetime import datetime as dt\n",
    "    \n",
    "    currAge = int(input(\"What is your current age? \"))\n",
    "    retAge = int(input(\"At what age would you like to retire? \"))\n",
    "    \n",
    "    retYears = retAge - currAge\n",
    "    curryear = dt.now().year    # Obtain current year\n",
    "    \n",
    "    print(\"You have {} years left until you can retire.\\nIt's {}, so you can retire in {}.\".format(retYears, curryear, curryear + retYears))\n",
    "\n",
    "example()"
   ]
  },
  {
   "cell_type": "markdown",
   "metadata": {},
   "source": [
    "# Problem #6"
   ]
  },
  {
   "cell_type": "code",
   "execution_count": 34,
   "metadata": {
    "collapsed": false
   },
   "outputs": [
    {
     "name": "stdout",
     "output_type": "stream",
     "text": [
      "What is the length of the room in feet? 15\n",
      "What is the width of the room in feet? 20\n",
      "You entered dimensions of 15.0 feet by 20.0 feet.\n",
      "The area is\n",
      "300.0 square feet\n",
      "27.871 square meters\n"
     ]
    }
   ],
   "source": [
    "def example():\n",
    "    convConst = 0.09290304          # Constant to convert square feet into square meters\n",
    "    \n",
    "    length_ft = float(input(\"What is the length of the room in feet? \"))\n",
    "    width_ft = float(input(\"What is the width of the room in feet? \"))\n",
    "    \n",
    "    sq_ft = length_ft * width_ft    # Calculate area of room in square feet\n",
    "    \n",
    "    sq_m = sq_ft * convConst        # Calculate area of room in square meters\n",
    "    \n",
    "    print(\"You entered dimensions of {} feet by {} feet.\".format(length_ft, width_ft))\n",
    "    \n",
    "    print(\"The area is\\n{} square feet\\n{:.3f} square meters\".format(sq_ft, sq_m))\n",
    "    \n",
    "example()\n",
    "    "
   ]
  },
  {
   "cell_type": "markdown",
   "metadata": {},
   "source": [
    "# Problem #7"
   ]
  },
  {
   "cell_type": "code",
   "execution_count": 36,
   "metadata": {
    "collapsed": false
   },
   "outputs": [
    {
     "name": "stdout",
     "output_type": "stream",
     "text": [
      "How many people? 8\n",
      "How many pizzas do you have? 2\n",
      "How many slices per pizza? 8\n",
      "8 people with 2 pizzas\n",
      "Each person gets 2 pieces of pizza.\n",
      "There are 0 leftover pieces.\n"
     ]
    }
   ],
   "source": [
    "def example():\n",
    "    \n",
    "    num_people = int(input(\"How many people? \"))\n",
    "    num_pizza = int(input(\"How many pizzas do you have? \"))\n",
    "    slices_pizza = int(input(\"How many slices per pizza? \"))\n",
    "    \n",
    "    slice_person, slice_leftover = divmod(slices_pizza * num_pizza, num_people)\n",
    "    \n",
    "    print(\"{} people with {} pizzas\".format(num_people, num_pizza))\n",
    "    print(\"Each person gets\", slice_person, \"pieces of pizza.\")\n",
    "    print(\"There are\", slice_leftover, \"leftover pieces.\")\n",
    "          \n",
    "    \n",
    "example()"
   ]
  },
  {
   "cell_type": "markdown",
   "metadata": {},
   "source": [
    "# Problem #8"
   ]
  },
  {
   "cell_type": "code",
   "execution_count": 40,
   "metadata": {
    "collapsed": false
   },
   "outputs": [
    {
     "name": "stdout",
     "output_type": "stream",
     "text": [
      "Enter the room length in feet: 10.5\n",
      "Enter the room width in feet: 12.2\n",
      "You will need to purchase 1 gallons of\n",
      "paint to cover 128.1 square feet.\n"
     ]
    }
   ],
   "source": [
    "def example():\n",
    "    import math\n",
    "    \n",
    "    paint_coverage = 350          # The amount of square feet that 1 gallon of paint covers\n",
    "    \n",
    "    room_length = float(input(\"Enter the room length in feet: \"))\n",
    "    room_width = float(input(\"Enter the room width in feet: \"))\n",
    "    \n",
    "    sqft_room = room_length * room_width\n",
    "    \n",
    "    print(\"You will need to purchase {} gallons of\\npaint to cover {} square feet.\".format(math.ceil(sqft_room / paint_coverage), sqft_room))\n",
    "    \n",
    "    \n",
    "example()"
   ]
  },
  {
   "cell_type": "markdown",
   "metadata": {},
   "source": [
    "# Problem #9"
   ]
  },
  {
   "cell_type": "code",
   "execution_count": 41,
   "metadata": {
    "collapsed": false
   },
   "outputs": [
    {
     "name": "stdout",
     "output_type": "stream",
     "text": [
      "Enter the price of item 1: 25\n",
      "Enter the quantity of item 1: 2\n",
      "Enter the price of item 2: 10\n",
      "Enter the quantity of item 2: 1\n",
      "Enter the price of item 3: 4\n",
      "Enter the quantity of item 3: 1\n",
      "Subtotal: $64.00\n",
      "Tax: $3.52\n",
      "Total: $67.52\n"
     ]
    }
   ],
   "source": [
    "def example():\n",
    "    \n",
    "    tax_rate = .055        # Sales tax rate\n",
    "    \n",
    "    item1_quant = float(input(\"Enter the price of item 1: \"))\n",
    "    item1_price = int(input(\"Enter the quantity of item 1: \"))\n",
    "    \n",
    "    item2_quant = float(input(\"Enter the price of item 2: \"))\n",
    "    item2_price = int(input(\"Enter the quantity of item 2: \"))\n",
    "    \n",
    "    item3_quant = float(input(\"Enter the price of item 3: \"))\n",
    "    item3_price = int(input(\"Enter the quantity of item 3: \"))\n",
    "    \n",
    "    cost_subtot = (item1_quant * item1_price) + (item2_quant * item2_price) + (item3_quant * item3_price)\n",
    "    \n",
    "    cost_tax = cost_subtot * tax_rate\n",
    "    \n",
    "    cost_total = cost_subtot + cost_tax\n",
    "    \n",
    "    print(\"Subtotal: ${:.2f}\".format(cost_subtot))\n",
    "    print(\"Tax: ${:.2f}\".format(cost_tax))\n",
    "    print(\"Total: ${:.2f}\".format(cost_total))\n",
    "    \n",
    "example() \n",
    "    "
   ]
  },
  {
   "cell_type": "markdown",
   "metadata": {},
   "source": [
    "# Problem #10"
   ]
  },
  {
   "cell_type": "code",
   "execution_count": 43,
   "metadata": {
    "collapsed": false
   },
   "outputs": [
    {
     "name": "stdout",
     "output_type": "stream",
     "text": [
      "Enter the principal: 1500\n",
      "Enter the rate of interest (0 - 100): 4.3\n",
      "Enter the num,ber of years: 4\n",
      "After 4 years at 4.3%, the investment will be worth $1758.00.\n"
     ]
    }
   ],
   "source": [
    "def example():\n",
    "    \n",
    "    principal = float(input(\"Enter the principal: \"))\n",
    "    int_rate = float(input(\"Enter the rate of interest (0 - 100): \"))\n",
    "    years = int(input(\"Enter the num,ber of years: \"))\n",
    "    \n",
    "    simp_interest = principal * (1 + ((int_rate / 100) * years))\n",
    "    \n",
    "    print(\"After {} years at {:.1f}%, the investment will be worth ${:.2f}.\".format(years, int_rate, simp_interest))\n",
    "    \n",
    "example()"
   ]
  }
 ],
 "metadata": {
  "anaconda-cloud": {},
  "kernelspec": {
   "display_name": "Python 3",
   "language": "python",
   "name": "python3"
  },
  "language_info": {
   "codemirror_mode": {
    "name": "ipython",
    "version": 3
   },
   "file_extension": ".py",
   "mimetype": "text/x-python",
   "name": "python",
   "nbconvert_exporter": "python",
   "pygments_lexer": "ipython3",
   "version": "3.5.2"
  }
 },
 "nbformat": 4,
 "nbformat_minor": 1
}
